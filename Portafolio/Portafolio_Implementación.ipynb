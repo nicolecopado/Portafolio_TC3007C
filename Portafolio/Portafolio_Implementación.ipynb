{
  "nbformat": 4,
  "nbformat_minor": 0,
  "metadata": {
    "colab": {
      "provenance": []
    },
    "kernelspec": {
      "name": "python3",
      "display_name": "Python 3"
    },
    "language_info": {
      "name": "python"
    }
  },
  "cells": [
    {
      "cell_type": "markdown",
      "source": [
        "# Portafolio Implementación"
      ],
      "metadata": {
        "id": "017tfGpuP_dX"
      }
    },
    {
      "cell_type": "markdown",
      "source": [
        "## SMA0401C Aprendizaje e IA"
      ],
      "metadata": {
        "id": "XOzDvBOeQBXD"
      }
    },
    {
      "cell_type": "markdown",
      "source": [
        "### Utiliza un framework para entrenar un modelo de aprendizaje profundo\n",
        "\n",
        "* Justificación: Sí tengo esta competencia ya que el lenguaje utilizado fue el de Python, y la razón de utilizarlo fue el hecho de que es altamente flexible y contiene una gran variedad de librerías, como TensorFlow y Keras, las cuales utilicé para crear mis modelos. \n",
        "\n",
        "  En este reto mi objetivo fue poder encontrar de qué manera cierto cuerpo de agua llegará a actuar después de cierto tiempo y esto mismo aplicarlo a un caso específico, y a su vez dejar un procedimiento que pueda llegar a servir para cualquier otra situación en la cual nosotros lleguemos a distribuir nuestro trabajo a personas terceras a la universidad.\n",
        "\n",
        "* Evidencia: [CNN usando TF y Keras](https://github.com/GuppyPaw/AguaIA/blob/main/code/CNN_white_water.ipynb)"
      ],
      "metadata": {
        "id": "mC-09H7JQaeP"
      }
    },
    {
      "cell_type": "markdown",
      "source": [
        "### Evalúa el desempeño del modelo en su aproximación inicial y realiza ajustes para mejorar su desempeño\n",
        "\n",
        "* Justificación: Se obtuvo esta competencia ya que al realizar cada iteración en los modelos se buscaba tener una menor pérdida y en cada caso buscar reducir el tiempo. \n",
        "También trabajé con diferentes optimizadores en distintas actividades a lo largo del curso.\n",
        "En el aspecto del modelo, implementé diferentes formas de su uso para dar un análisis completo de sus errores y su mejor manera de trabajar \n",
        "e.g. cambié ciertas métricas para ver si el código podía tener un poco más de precisión.\n",
        "\n",
        "* Evidencia: [Data Augmenting and Early Stopping](https://github.com/nicolecopado/Portafolio_TC3007C/blob/main/Actividades/Actividad_4_Transfer_Learning-1.ipynb)"
      ],
      "metadata": {
        "id": "gBMUIfzQQcmG"
      }
    },
    {
      "cell_type": "markdown",
      "source": [
        "### Utiliza un conjunto datos reales (no ejemplos de clase), para la creación del modelo.\n",
        "\n",
        "* Justificación: Se obtuvo esta competencia ya que los datos con los que trabajé en el reto fueron los que se nos dieron por la Universidad de Nebraska del sitio North Platte River State Line Weir. De igual forma, trabajé con datos reales al buscar un corpus para responder un Q&A con Bert y al trabajar con datos del dataset de Riwa en la segmentación de datos.\n",
        "\n",
        "* Evidencia: [Implementación de Transformers para Q&A](https://github.com/nicolecopado/Portafolio_TC3007C/blob/main/Actividades/BERT.ipynb)"
      ],
      "metadata": {
        "id": "IzBJU31VQeyQ"
      }
    },
    {
      "cell_type": "markdown",
      "source": [
        "### El modelo puede generar predicciones o recomendaciones a través de la consola o una interfaz\n",
        "\n",
        "* Justificación: Se obtuvo esta competencia ya que realicé actividades para crear modelos que pudieran predecir sucesos o cantidades.\n",
        "  El modelo es capaz de dar respuestas de predicción después de obtener un dataset o un corpus.\n",
        "\n",
        "* Evidencia: [Actividad para predecir una prenda](https://github.com/nicolecopado/Portafolio_TC3007C/blob/main/Actividades/Actividad_2_CNN_classifier_for_Fashion_MNIST_dataset.ipynb)"
      ],
      "metadata": {
        "id": "xah-czDXQgbt"
      }
    },
    {
      "cell_type": "markdown",
      "source": [
        "## SMA0402C Reconocimiento de patrones, lenguaje natural e IA"
      ],
      "metadata": {
        "id": "tYO_cT8_QVOL"
      }
    },
    {
      "cell_type": "markdown",
      "source": [
        "### Puede integrar una interfaz de lenguaje natural  escrito a una aplicación haciendo uso de APIs\n",
        "\n",
        "* Justificación: Se obtuvo esta competencia porque realicé una activiad en donde teníamos que hacer preguntas sobre ríos utilizando BERT y esto fue posible al crear una API para preguntar y recibir respuestas. \n",
        "* Evidencia: [Implementación de Transformers para Q&A](https://github.com/nicolecopado/Portafolio_TC3007C/blob/main/Actividades/BERT.ipynb)"
      ],
      "metadata": {
        "id": "SwkOFehEQicT"
      }
    },
    {
      "cell_type": "markdown",
      "source": [
        "### Puede integrar una interfaz de lenguaje natural  en audio o voz a una aplicación haciendo uso de APIs\n",
        "\n",
        "**No aplica.**"
      ],
      "metadata": {
        "id": "iAjbnczJQlGe"
      }
    },
    {
      "cell_type": "markdown",
      "source": [
        "### Analiza un texto con herramientas de NLP para obtener información relevante: análisis de sentimientos, generación de texto, generación de audio, etc...\n",
        "\n",
        "* Justificación: Se obtuvo esta competencia al realizar una actividad en donde se hacía un análisis de sentimientos con los tweets de Elon Musk.\n",
        "* Evidencia: [Análisis de sentimientos](https://github.com/nicolecopado/Portafolio_TC3007C/blob/main/Actividades/NLP.ipynb)"
      ],
      "metadata": {
        "id": "j_uB3RksQmeX"
      }
    },
    {
      "cell_type": "markdown",
      "source": [
        "## SMA0101C Construcción de modelos"
      ],
      "metadata": {
        "id": "FfXjlPLiQX52"
      }
    },
    {
      "cell_type": "markdown",
      "source": [
        "### Identifica correctamente si el problema a tratar requiere un modelo estocástico o determinista\n",
        "\n",
        "* Justificación: Se obutvo esta competencia ya que el modelo del reto es determinista porque contenía datos reales y no aleatorios. Este problema fue llevado por una causa, la misma que buscamos para dar una solución al problema y si es que no se da una solución, cómo podrían comportarse en futuro estos datos.\n",
        "También realicé distintos modelos deterministas (simple linear regression, Lasso, CNN).\n",
        "\n",
        "* Evidencia: [Simple Linear Regression Model](https://github.com/nicolecopado/Portafolio_TC3007C/blob/main/Actividades/Tema_1__An%C3%A1lisis_de_regresi%C3%B3n-1.ipynb)"
      ],
      "metadata": {
        "id": "-d1jBG69QoXL"
      }
    },
    {
      "cell_type": "markdown",
      "source": [
        "### Selecciona el modelo adecuado al problema\n",
        "No es necesario porque solo trabajé con modelos deterministas."
      ],
      "metadata": {
        "id": "6cJ_cLHxQqAn"
      }
    },
    {
      "cell_type": "markdown",
      "source": [
        "### Explica claramente las ventajas y desventajas del modelo seleccionado para este problema\n",
        "No se necesita explicar las ventajas ni desventajas ya que no había necesidad de escoger un modelo porque los datos que se nos dieron eran para crear modelos deterministas."
      ],
      "metadata": {
        "id": "1UDhK0_vQrim"
      }
    }
  ]
}