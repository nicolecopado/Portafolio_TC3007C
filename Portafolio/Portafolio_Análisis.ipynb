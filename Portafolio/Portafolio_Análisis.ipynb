{
  "nbformat": 4,
  "nbformat_minor": 0,
  "metadata": {
    "colab": {
      "provenance": []
    },
    "kernelspec": {
      "name": "python3",
      "display_name": "Python 3"
    },
    "language_info": {
      "name": "python"
    }
  },
  "cells": [
    {
      "cell_type": "markdown",
      "source": [
        "# Portafolio Análisis"
      ],
      "metadata": {
        "id": "FTztZFUyMlBn"
      }
    },
    {
      "cell_type": "markdown",
      "source": [
        "## SMA0104C Análisis de información"
      ],
      "metadata": {
        "id": "nb6VYVmQMcrQ"
      }
    },
    {
      "cell_type": "markdown",
      "source": [
        "### Trabaja con grandes volumenes de datos\n",
        "\n",
        "* Justificación: Se demuestra esta subcompetencia al trabajar con más de 40,000 imágenes que fueron utilizadas para la creación de modelos y 42,059 datos con 59 variables las cuales fueron analizadas para usar las de mayor correlación con las variables dependientes.\n",
        "* Evidencia: [Análisis de los datos](https://github.com/GuppyPaw/AguaIA/blob/main/code/CNN_original_images.ipynb) "
      ],
      "metadata": {
        "id": "C2xpCFj9MqoR"
      }
    },
    {
      "cell_type": "markdown",
      "source": [
        "### Procesa grandes volúmenes de datos de manera eficiente\n",
        "\n",
        "* Justificación: Se demuestra esta subcompetencia al haber transformado las variables de manera continua para crear diferentes modelos de predicción y clasificación. De igual forma, se editaron las imágenes al recortar ciertas partes como el borde o enfocarse en la espuma del río. \n",
        "* Evidencia: [Recorte de imagen](https://github.com/GuppyPaw/AguaIA/blob/main/code/CNN_edges_river.ipynb)"
      ],
      "metadata": {
        "id": "WaLbi5zPMvZ0"
      }
    },
    {
      "cell_type": "markdown",
      "source": [
        "### Genera tableros útiles y correctos que apoyen a la toma de decisiones\n",
        "\n",
        "* Justificación: Se demuestra esta subcompetencia al trabajar con tablas que contenían descripciones de ciertos datos para la toma de decisiones respecto a que variables deberíamos escoger dependiendo de su correlación con las demás variables.\n",
        "* Evidencia: [Análisis de los datos](https://github.com/GuppyPaw/AguaIA/blob/main/code/CNN_original_images.ipynb)\n",
        "\n",
        "![correlations.png](https://raw.githubusercontent.com/nicolecopado/Portafolio_TC3007C/main/img/correlations.png)\n"
      ],
      "metadata": {
        "id": "0jxY6QNGM0ur"
      }
    },
    {
      "cell_type": "markdown",
      "source": [
        "### Mide correctamente el desempeño del modelo y sus métricas son correctas\n",
        "\n",
        "* Justificación: Se demuestra esta subcompetencia al analizar los datos y en la creación de los modelos se calculan métricas para ver su precisión y error (MSE, RMSE, MAE)\n",
        "\n",
        "* Evidencia: [Obtención de métricas](https://github.com/GuppyPaw/AguaIA/blob/main/Reto_Niveles_de_Agua.ipynb)\n",
        "\n",
        "![errores.png](https://raw.githubusercontent.com/nicolecopado/Portafolio_TC3007C/main/img/errores.png)"
      ],
      "metadata": {
        "id": "ZxEsCC2YM5NN"
      }
    },
    {
      "cell_type": "markdown",
      "source": [
        "### Interpreta los resultados de las predicciones de los modelos y los interpreta en el contexto del problema de manera correcta\n",
        "\n",
        "* Justificación: Se demuestra esta subcompetencia ya que al crear modelos y modificar los datos, se obtenían diferentes resultados, algunos mejores que otros. Las predicciones no fueron tan buenas pero usando diferentes métodos de trabajar con las imágenes se mejoraron los modelos.\n",
        "* Evidencia: [Resultados obtenidos en cada modelo](https://github.com/GuppyPaw/AguaIA/blob/main/Reto_Niveles_de_Agua.ipynb)"
      ],
      "metadata": {
        "id": "8wsZnsyaM824"
      }
    },
    {
      "cell_type": "markdown",
      "source": [
        "## SEG0403B - Resuelve situaciones mediante el cumplimiento de leyes, normas y principios éticos."
      ],
      "metadata": {
        "id": "76dt90HkNA-i"
      }
    },
    {
      "cell_type": "markdown",
      "source": [
        "### Verifica que los datos estén anonimizados para no violar normas o leyes de privacidad de la información\n",
        "\n",
        "No fue necesario anonimizar los datos ya que la organización socioformadora nos dio los datos de su propio estudio."
      ],
      "metadata": {
        "id": "XNwKWcE9ND-7"
      }
    },
    {
      "cell_type": "markdown",
      "source": [
        "### Especifica el proceso o estándar a seguir para validar el manejo de los datos y garantizar que solo el equipo tenga acceso a ellos en cumplimiento con las normativas.\n",
        "\n",
        "No se necesitó llevar acabo un estándar para validar el manejo de datos."
      ],
      "metadata": {
        "id": "-b1SCYYTNHg3"
      }
    },
    {
      "cell_type": "markdown",
      "source": [
        "### Presenta registros claros sobre el seguimiento del proceso y las autorizaciones para tener acceso a los datos\n",
        "\n",
        "* Justificación: Los datos que se nos dieron están disponibles en línea para todo el público para poder hacer uso de ellos sin restricciones.\n",
        "* Evidencia: [River water segmentation](https://www.kaggle.com/datasets/a644c8af3ad0638c6993c0e742c963505b7bd98aceef656e4d9f37c9e2c60937)\n",
        "  [Segmentation Code](https://github.com/GuppyPaw/AguaIA/blob/main/code/segmentation.ipynb)"
      ],
      "metadata": {
        "id": "S1C6HVGNNJj4"
      }
    },
    {
      "cell_type": "markdown",
      "source": [
        "## Correciones\n",
        "\n",
        "A lo largo de los bloques, trabajamos con los profesores para poder entender el set de datos con el que trabajamos. También nos hicieron sugerencias para empezar a trabajar con estos mismo y cambiar ciertas cosas de nuestros modelos para optimizarlos (ARIMA, Librería Prophet). \n",
        "\n",
        "En nuestro escrito también recibimos retroalimentación para ver si el orden era correcto y corregir la redacción."
      ],
      "metadata": {
        "id": "4feClKMKNybA"
      }
    }
  ]
}